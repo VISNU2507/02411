{
 "cells": [
  {
   "cell_type": "code",
   "execution_count": 3,
   "id": "75b12c08",
   "metadata": {},
   "outputs": [],
   "source": [
    "import numpy as np\n",
    "import matplotlib.pyplot as plt\n",
    "import pandas as pd\n",
    "import scipy.stats as stats\n",
    "import statsmodels.api as sm\n",
    "import statsmodels.formula.api as smf\n",
    "import statsmodels.stats.power as smp\n",
    "import statsmodels.stats.proportion as smprop\n",
    "from scipy.stats import ttest_ind"
   ]
  },
  {
   "cell_type": "code",
   "execution_count": null,
   "id": "6c1ed81b",
   "metadata": {},
   "outputs": [
    {
     "name": "stdout",
     "output_type": "stream",
     "text": [
      "   Athlete_ID Training_Program     Diet_Type Initial_Fitness  Performance_Inc\n",
      "0         167        Endurance   Plant-Based            High         9.113040\n",
      "1         289        Endurance          Keto             Low        11.039744\n",
      "2         164        Endurance   Plant-Based          Medium        11.614835\n",
      "3          30         Strength          Keto          Medium         7.384686\n",
      "4         186             HIIT  High-Protein             Low         6.776078\n",
      "{'Athlete_ID': [167, 289, 164, 30, 186], 'Training_Program': ['Endurance', 'Endurance', 'Endurance', 'Strength', 'HIIT'], 'Diet_Type': ['Plant-Based', 'Keto', 'Plant-Based', 'Keto', 'High-Protein'], 'Initial_Fitness': ['High', 'Low', 'Medium', 'Medium', 'Low'], 'Performance_Inc': [9.11304, 11.039744, 11.614835, 7.384686, 6.776078]}\n"
     ]
    }
   ],
   "source": [
    "\n",
    "\n",
    "# Create the DataFrame\n",
    "data = {\n",
    "    \"Athlete_ID\": [167, 289, 164, 30, 186],\n",
    "    \"Training_Program\": [\"Endurance\", \"Endurance\",  \"Endurance\", \"Strength\", \"HIIT\"],\n",
    "    \"Diet_Type\": [\"Plant-Based\", \"Keto\", \"Plant-Based\", \"Keto\", \"High-Protein\"],\n",
    "    \"Initial_Fitness\": [\"High\", \"Low\", \"Medium\", \"Medium\", \"Low\"],\n",
    "    \"Performance_Inc\": [9.113040, 11.039744, 11.614835, 7.384686, 6.776078]\n",
    "}\n",
    "\n",
    "athletic_perf = pd.DataFrame(data)\n",
    "\n",
    "print(athletic_perf)\n",
    "print(data)\n"
   ]
  },
  {
   "cell_type": "code",
   "execution_count": 10,
   "id": "d3226ce7",
   "metadata": {},
   "outputs": [
    {
     "name": "stdout",
     "output_type": "stream",
     "text": [
      "4    6.776078\n",
      "Name: Performance_Inc, dtype: float64\n"
     ]
    }
   ],
   "source": [
    "\n",
    "group1 = athletic_perf[athletic_perf['Training_Program'] == 'HIIT']['Performance_Inc']\n",
    "print(group1)"
   ]
  },
  {
   "cell_type": "code",
   "execution_count": 11,
   "id": "4e24e5a2",
   "metadata": {},
   "outputs": [],
   "source": [
    "group2 = athletic_perf[athletic_perf['Training_Program'] == 'Endurance']['Performance_Inc']"
   ]
  },
  {
   "cell_type": "code",
   "execution_count": 12,
   "id": "5676e187",
   "metadata": {},
   "outputs": [
    {
     "name": "stdout",
     "output_type": "stream",
     "text": [
      "T-statistic: -2.520165688019715, P-value: 0.12792519497620458\n"
     ]
    }
   ],
   "source": [
    "t_stat, p_value = ttest_ind(group1, group2)\n",
    "print(f\"T-statistic: {t_stat}, P-value: {p_value}\")"
   ]
  }
 ],
 "metadata": {
  "kernelspec": {
   "display_name": "02411",
   "language": "python",
   "name": "python3"
  },
  "language_info": {
   "codemirror_mode": {
    "name": "ipython",
    "version": 3
   },
   "file_extension": ".py",
   "mimetype": "text/x-python",
   "name": "python",
   "nbconvert_exporter": "python",
   "pygments_lexer": "ipython3",
   "version": "3.12.7"
  }
 },
 "nbformat": 4,
 "nbformat_minor": 5
}
