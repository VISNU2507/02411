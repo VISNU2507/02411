{
 "cells": [
  {
   "cell_type": "markdown",
   "id": "bba107a9",
   "metadata": {},
   "source": [
    "- The t-test is designed to compare means between groups.\n",
    "\n",
    "- The F-test is specifically designed to compare variances."
   ]
  }
 ],
 "metadata": {
  "language_info": {
   "name": "python"
  }
 },
 "nbformat": 4,
 "nbformat_minor": 5
}
