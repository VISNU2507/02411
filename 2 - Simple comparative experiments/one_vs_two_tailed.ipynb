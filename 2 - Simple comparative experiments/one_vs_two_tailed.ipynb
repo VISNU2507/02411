{
 "cells": [
  {
   "cell_type": "code",
   "execution_count": 1,
   "id": "8fd05a77",
   "metadata": {},
   "outputs": [],
   "source": [
    "import numpy as np\n",
    "import matplotlib.pyplot as plt\n",
    "import pandas as pd\n",
    "import scipy.stats as stats\n",
    "import statsmodels.api as sm\n",
    "import statsmodels.formula.api as smf\n",
    "import statsmodels.stats.power as smp\n",
    "import statsmodels.stats.proportion as smprop"
   ]
  },
  {
   "cell_type": "markdown",
   "id": "c1b2ec01",
   "metadata": {},
   "source": [
    "# 📘 Notes on T-tests and F-tests (Tails)\n",
    "\n",
    "## 1. T-test (comparing means)\n",
    "\n",
    "- **One-tailed test**\n",
    "  - $H_0: \\mu_1 = \\mu_2$\n",
    "  - $H_1: \\mu_1 > \\mu_2$ or $H_1: \\mu_1 < \\mu_2$\n",
    "  - Reject $H_0$ only if the difference is in the specified direction.\n",
    "\n",
    "- **Two-tailed test**\n",
    "  - $H_0: \\mu_1 = \\mu_2$\n",
    "  - $H_1: \\mu_1 \\neq \\mu_2$\n",
    "  - Reject $H_0$ if the means are different in *either* direction.\n",
    "\n",
    "---\n",
    "\n",
    "## 2. F-test (comparing variances)\n",
    "\n",
    "- Test statistic:\n",
    "\n",
    "  $$\n",
    "  F = \\frac{S_1^2}{S_2^2}\n",
    "  $$\n",
    "\n",
    "  where $S^2$ is the sample variance.\n",
    "\n",
    "- **One-tailed test**\n",
    "  - $H_0: \\sigma_1^2 = \\sigma_2^2$\n",
    "  - $H_1: \\sigma_1^2 > \\sigma_2^2$  (or $H_1: \\sigma_1^2 < \\sigma_2^2$)\n",
    "  - Reject $H_0$ if the variance ratio is too large (or too small).\n",
    "\n",
    "- **Two-tailed test**\n",
    "  - $H_0: \\sigma_1^2 = \\sigma_2^2$\n",
    "  - $H_1: \\sigma_1^2 \\neq \\sigma_2^2$\n",
    "  - Reject $H_0$ if the ratio is either too large or too small.\n",
    "  - Note: The $F$-distribution is not symmetric, so we check both tails.\n",
    "\n",
    "---\n",
    "\n",
    "## Key Points:\n",
    "- **t-test** → tests *means* ($\\mu$).  \n",
    "- **F-test** → tests *variances* ($\\sigma^2$).  \n",
    "- **Tails** depend on the form of the alternative hypothesis ($H_1$).\n"
   ]
  },
  {
   "cell_type": "code",
   "execution_count": 1,
   "id": "6ddab2f5",
   "metadata": {},
   "outputs": [
    {
     "name": "stdout",
     "output_type": "stream",
     "text": [
      "T-test results:\n",
      "Two-tailed: t = -1.0 , p = 0.34659350708733416\n",
      "One-tailed: t = -1.0 , p = 0.8267032464563329\n",
      "\n",
      "F-test results:\n",
      "F statistic = 1.0\n",
      "Two-tailed p = 1.0\n",
      "One-tailed p = 0.5\n"
     ]
    }
   ],
   "source": [
    "import numpy as np\n",
    "from scipy import stats\n",
    "\n",
    "\n",
    "group1 = np.array([5, 6, 7, 8, 9])\n",
    "group2 = np.array([6, 7, 8, 9, 10])\n",
    "\n",
    "# ------------------------------\n",
    "# 1. T-tests\n",
    "# ------------------------------\n",
    "\n",
    "# Two-tailed t-test (default in scipy)\n",
    "t_stat, p_val_two = stats.ttest_ind(group1, group2, equal_var=True)\n",
    "\n",
    "# One-tailed t-test (right-tailed: H1: mu1 > mu2)\n",
    "t_stat, p_val_two = stats.ttest_ind(group1, group2, equal_var=True)\n",
    "p_val_one = p_val_two / 2 if t_stat > 0 else 1 - (p_val_two / 2)\n",
    "\n",
    "print(\"T-test results:\")\n",
    "print(\"Two-tailed: t =\", t_stat, \", p =\", p_val_two)\n",
    "print(\"One-tailed: t =\", t_stat, \", p =\", p_val_one)\n",
    "\n",
    "# ------------------------------\n",
    "# 2. F-tests\n",
    "# ------------------------------\n",
    "\n",
    "# Sample variances\n",
    "s1_sq = np.var(group1, ddof=1)\n",
    "s2_sq = np.var(group2, ddof=1)\n",
    "\n",
    "# F statistic\n",
    "F = s1_sq / s2_sq\n",
    "\n",
    "# Degrees of freedom\n",
    "df1 = len(group1) - 1\n",
    "df2 = len(group2) - 1\n",
    "\n",
    "# Two-tailed F-test\n",
    "p_val_f_two = 2 * min(stats.f.cdf(F, df1, df2), 1 - stats.f.cdf(F, df1, df2))\n",
    "\n",
    "# One-tailed F-test (H1: sigma1^2 > sigma2^2)\n",
    "p_val_f_one = 1 - stats.f.cdf(F, df1, df2)\n",
    "\n",
    "print(\"\\nF-test results:\")\n",
    "print(\"F statistic =\", F)\n",
    "print(\"Two-tailed p =\", p_val_f_two)\n",
    "print(\"One-tailed p =\", p_val_f_one)\n"
   ]
  },
  {
   "cell_type": "markdown",
   "id": "dcc62837",
   "metadata": {},
   "source": [
    "## One-Tailed vs. Two-Tailed\n",
    "\n",
    "- One-tailed test (left or right):\n",
    "You put all of α in one tail.\n",
    "\n",
    "Left-tailed: stats.t.ppf(α, df) (negative critical value).\n",
    "\n",
    "Right-tailed: stats.t.ppf(1 - α, df) (positive critical value).\n",
    "\n",
    "- Two-tailed test:\n",
    "You split α into two equal halves, one in each tail.\n",
    "\n",
    "Each tail gets α/2.\n",
    "\n",
    "Critical values are symmetric: ± stats.t.ppf(1 - α/2, df)."
   ]
  },
  {
   "cell_type": "code",
   "execution_count": 2,
   "id": "10a4bb8b",
   "metadata": {},
   "outputs": [
    {
     "name": "stdout",
     "output_type": "stream",
     "text": [
      "Left-tailed 1%: -2.5834871852674723\n",
      "Right-tailed 1%: 2.583487185267472\n",
      "Two-tailed 1%: ± 2.920781622496036\n"
     ]
    }
   ],
   "source": [
    "import scipy.stats as stats\n",
    "\n",
    "df = 16\n",
    "alpha = 0.01\n",
    "\n",
    "# One-tailed left\n",
    "t_left = stats.t.ppf(alpha, df)\n",
    "\n",
    "# One-tailed right\n",
    "t_right = stats.t.ppf(1 - alpha, df)\n",
    "\n",
    "# Two-tailed (both sides)\n",
    "t_two = stats.t.ppf(1 - alpha/2, df)\n",
    "\n",
    "print(\"Left-tailed 1%:\", t_left)\n",
    "print(\"Right-tailed 1%:\", t_right)\n",
    "print(\"Two-tailed 1%: ±\", t_two)\n"
   ]
  }
 ],
 "metadata": {
  "kernelspec": {
   "display_name": "02411",
   "language": "python",
   "name": "python3"
  },
  "language_info": {
   "codemirror_mode": {
    "name": "ipython",
    "version": 3
   },
   "file_extension": ".py",
   "mimetype": "text/x-python",
   "name": "python",
   "nbconvert_exporter": "python",
   "pygments_lexer": "ipython3",
   "version": "3.12.7"
  }
 },
 "nbformat": 4,
 "nbformat_minor": 5
}
