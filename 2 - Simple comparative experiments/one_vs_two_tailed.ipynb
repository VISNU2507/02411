{
 "cells": [
  {
   "cell_type": "code",
   "execution_count": 1,
   "id": "8fd05a77",
   "metadata": {},
   "outputs": [],
   "source": [
    "import numpy as np\n",
    "import matplotlib.pyplot as plt\n",
    "import pandas as pd\n",
    "import scipy.stats as stats\n",
    "import statsmodels.api as sm\n",
    "import statsmodels.formula.api as smf\n",
    "import statsmodels.stats.power as smp\n",
    "import statsmodels.stats.proportion as smprop"
   ]
  },
  {
   "cell_type": "markdown",
   "id": "dcc62837",
   "metadata": {},
   "source": [
    "## One-Tailed vs. Two-Tailed\n",
    "\n",
    "- One-tailed test (left or right):\n",
    "You put all of α in one tail.\n",
    "\n",
    "Left-tailed: stats.t.ppf(α, df) (negative critical value).\n",
    "\n",
    "Right-tailed: stats.t.ppf(1 - α, df) (positive critical value).\n",
    "\n",
    "- Two-tailed test:\n",
    "You split α into two equal halves, one in each tail.\n",
    "\n",
    "Each tail gets α/2.\n",
    "\n",
    "Critical values are symmetric: ± stats.t.ppf(1 - α/2, df)."
   ]
  },
  {
   "cell_type": "code",
   "execution_count": 2,
   "id": "10a4bb8b",
   "metadata": {},
   "outputs": [
    {
     "name": "stdout",
     "output_type": "stream",
     "text": [
      "Left-tailed 1%: -2.5834871852674723\n",
      "Right-tailed 1%: 2.583487185267472\n",
      "Two-tailed 1%: ± 2.920781622496036\n"
     ]
    }
   ],
   "source": [
    "import scipy.stats as stats\n",
    "\n",
    "df = 16\n",
    "alpha = 0.01\n",
    "\n",
    "# One-tailed left\n",
    "t_left = stats.t.ppf(alpha, df)\n",
    "\n",
    "# One-tailed right\n",
    "t_right = stats.t.ppf(1 - alpha, df)\n",
    "\n",
    "# Two-tailed (both sides)\n",
    "t_two = stats.t.ppf(1 - alpha/2, df)\n",
    "\n",
    "print(\"Left-tailed 1%:\", t_left)\n",
    "print(\"Right-tailed 1%:\", t_right)\n",
    "print(\"Two-tailed 1%: ±\", t_two)\n"
   ]
  }
 ],
 "metadata": {
  "kernelspec": {
   "display_name": "02411",
   "language": "python",
   "name": "python3"
  },
  "language_info": {
   "codemirror_mode": {
    "name": "ipython",
    "version": 3
   },
   "file_extension": ".py",
   "mimetype": "text/x-python",
   "name": "python",
   "nbconvert_exporter": "python",
   "pygments_lexer": "ipython3",
   "version": "3.12.7"
  }
 },
 "nbformat": 4,
 "nbformat_minor": 5
}
