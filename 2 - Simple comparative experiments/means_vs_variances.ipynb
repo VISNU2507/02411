{
 "cells": [
  {
   "cell_type": "markdown",
   "id": "c8d65c8d",
   "metadata": {},
   "source": [
    "# 📊 F-Test vs. t-Test\n",
    "\n",
    "---\n",
    "\n",
    "## 🔎 When do we use F-test?\n",
    "\n",
    "The **F-test** is used when we are **comparing variances**.\n",
    "\n",
    "- Hypotheses look like:  \n",
    "  - H₀: σ₁² = σ₂²  \n",
    "  - H₁: σ₁² ≠ σ₂² (or > or <)  \n",
    "\n",
    "- The test statistic is the ratio of variances:  \n",
    "  $$\n",
    "  F = \\frac{s_1^2}{s_2^2}\n",
    "  $$\n",
    "\n",
    "👉 If the question is about whether **variances are equal**, you use an **F-test**.\n",
    "\n",
    "---\n",
    "\n",
    "## 🔎 When do we use t-test?\n",
    "\n",
    "The **t-test** is used when we are **comparing means**.\n",
    "\n",
    "- Hypotheses look like:  \n",
    "  - H₀: μ₁ = μ₂  \n",
    "  - H₁: μ₁ ≠ μ₂, μ₁ > μ₂, or μ₁ < μ₂  \n",
    "\n",
    "- If the problem says *“assume variances are equal but unknown”*, then you use the **pooled two-sample t-test for means**.\n",
    "\n",
    "👉 If it’s about **mean differences**, you use a **t-test** (or z-test if σ is known).\n",
    "\n",
    "---\n",
    "\n",
    "## 🔎 Why did it “suddenly” switch?\n",
    "\n",
    "Because the problems are asking **different things**:\n",
    "\n",
    "- In the chicken breeds example with σ₁² and σ₂² → we were testing **variances** → F-test.  \n",
    "- In the new question with μ₁ and μ₂ → we are testing **means** → t-test.  \n",
    "\n",
    "Both belong to **Chapter 2: Simple Comparative Experiments**, and exams often switch between them.\n",
    "\n",
    "---\n",
    "\n",
    "## ✅ Rule of Thumb\n",
    "\n",
    "- If H₀ involves **σ²** → you’re in **F-test** territory.  \n",
    "- If H₀ involves **μ** → you’re in **t-test** (or z-test if σ known).  \n"
   ]
  }
 ],
 "metadata": {
  "language_info": {
   "name": "python"
  }
 },
 "nbformat": 4,
 "nbformat_minor": 5
}
