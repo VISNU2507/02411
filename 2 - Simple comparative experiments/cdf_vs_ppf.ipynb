{
 "cells": [
  {
   "cell_type": "markdown",
   "id": "f9845f3e",
   "metadata": {},
   "source": [
    "Use cdf when you already have the test statistic ($t$ or $F$) and want to find the p-value.\n",
    "\n",
    "Use ppf when you know the significance level ($\\alpha$) and want to find the critical cutoff value."
   ]
  }
 ],
 "metadata": {
  "language_info": {
   "name": "python"
  }
 },
 "nbformat": 4,
 "nbformat_minor": 5
}
