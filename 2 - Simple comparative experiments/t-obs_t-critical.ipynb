{
 "cells": [
  {
   "cell_type": "markdown",
   "id": "0f840c1e",
   "metadata": {},
   "source": [
    "t0 (observed) comes from your sample. used to calculte p value\n",
    "\n",
    "t (critical) comes from theory (distribution quantile)."
   ]
  }
 ],
 "metadata": {
  "language_info": {
   "name": "python"
  }
 },
 "nbformat": 4,
 "nbformat_minor": 5
}
